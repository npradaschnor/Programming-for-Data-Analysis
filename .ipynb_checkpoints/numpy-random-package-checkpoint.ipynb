{
 "cells": [
  {
   "cell_type": "markdown",
   "metadata": {},
   "source": [
    "<img src=\"https://image.ibb.co/ddBPA0/numpy.jpg\" alt=\"numpy\" border=\"0\">\n",
    "\n",
    "# numpy.random"
   ]
  },
  {
   "cell_type": "markdown",
   "metadata": {},
   "source": [
    "### This is an Assignment for Programming for Data Analysis module. The Assignment concerns the numpy.random package in Python. \n",
    "\n",
    "#### The Assignment consists in fours distinct sections, as follows:\n",
    "- Section 1. numpy.random: explanation about the overall purpose of the package;\n",
    "- Section 2. 'Simple random data' and 'Permutations' functions: explanation about the use of these sections/functions;\n",
    "- Section 3. 'Distributions' functions: explanation about the use and purpose of five functions from this section;\n",
    "- Section 4. 'Random generator': expplanation about the use of the 'seeds'."
   ]
  },
  {
   "cell_type": "markdown",
   "metadata": {},
   "source": [
    "### Section 1. numpy.random Package\n",
    "\n",
    "numpy is a fundamental package for scientific computing in Python.It is quite fast in dealing with numbers and big lists. The numpy.random is a sub-package of numpy package in Python. \n"
   ]
  },
  {
   "cell_type": "markdown",
   "metadata": {},
   "source": [
    "### Section 2. 'Simple random data' and 'Permutations' functions\n",
    "\n",
    "#### 'Simple random data' \n",
    "Generates random values depending of the function selected. There a range of functions to generate random data. For example, rand generates uniformly distributed values, while randn returns sample of values from the “standard normal” distribution. and randint generates uniformly distributed integers in a given shape."
   ]
  },
  {
   "cell_type": "code",
   "execution_count": 1,
   "metadata": {},
   "outputs": [
    {
     "data": {
      "text/plain": [
       "array([[ 0.05609738, -1.41317225,  1.38926761, -0.1472702 ],\n",
       "       [ 0.76653796, -0.4346163 , -0.23611625, -0.92891118]])"
      ]
     },
     "execution_count": 1,
     "metadata": {},
     "output_type": "execute_result"
    }
   ],
   "source": [
    "import numpy as np\n",
    "\n",
    "np.random.randn(2,4)"
   ]
  },
  {
   "cell_type": "code",
   "execution_count": 2,
   "metadata": {},
   "outputs": [
    {
     "data": {
      "text/plain": [
       "array([12, 16,  8, 19,  7, 16, 14, 13, 10, 15,  3,  5, 19, 12,  8,  9, 15,\n",
       "       16, 14, 18, 16, 11, 15, 14,  8, 11,  8, 14,  5, 11,  4, 10, 16,  3,\n",
       "       14,  9, 17, 11,  8,  8, 17, 11,  4,  7,  9, 15, 12, 10, 13, 16,  7,\n",
       "       14, 10, 16, 19, 16,  5,  6,  9, 13, 17,  6, 13,  6, 14,  4, 19,  7,\n",
       "       16,  6, 14,  8, 15,  5, 14, 12, 17,  9, 11, 14,  9,  9, 14,  9, 19,\n",
       "        4, 15, 12, 18, 13,  5, 16, 14,  7, 11,  3, 10, 18, 15,  7])"
      ]
     },
     "execution_count": 2,
     "metadata": {},
     "output_type": "execute_result"
    }
   ],
   "source": [
    "np.random.randint (low=3,high=20, size = 100)"
   ]
  },
  {
   "cell_type": "markdown",
   "metadata": {},
   "source": [
    "##### 'Permutations' functions: shuffle and permutation\n",
    "\n",
    "##### Shuffle\n",
    "This function doesn't change the contents of an array, it only shuffles its contents. That way, modifies a sequence in-place. So, only the order of sub-array is changed, but never changes its content. Moreover, the shuffle function only shuffles the array onward the first axis in caso of a multi-dimensional array.\n",
    "\n",
    "###### np.random.shuffle(X)\n",
    "\n",
    "Parameters (X) - array_like (any sequence that numpy can interpreted as a narray: array or list) that are going to be shuffled.\n",
    "\n",
    "Returns - None"
   ]
  },
  {
   "cell_type": "code",
   "execution_count": 3,
   "metadata": {
    "scrolled": true
   },
   "outputs": [
    {
     "data": {
      "text/plain": [
       "array([[ 0.24442627,  0.416147  ,  0.72756262],\n",
       "       [ 0.76795201,  0.11688021,  0.50871979],\n",
       "       [ 0.19573099,  0.08614483,  0.17420508],\n",
       "       [ 0.98755466,  0.35097172,  0.95570843],\n",
       "       [ 0.22434106,  0.28519116,  0.11982767],\n",
       "       [ 0.78716587,  0.25658613,  0.38999007],\n",
       "       [ 0.9189059 ,  0.35304017,  0.9656334 ],\n",
       "       [ 0.23781108,  0.37083299,  0.95730428],\n",
       "       [ 0.52298802,  0.47400539,  0.90193332],\n",
       "       [ 0.35233541,  0.82137637,  0.86487718]])"
      ]
     },
     "execution_count": 3,
     "metadata": {},
     "output_type": "execute_result"
    }
   ],
   "source": [
    "# Shuffle function example\n",
    "\n",
    "X = np.random.random((10, 3))\n",
    "\n",
    "X"
   ]
  },
  {
   "cell_type": "code",
   "execution_count": 4,
   "metadata": {
    "scrolled": true
   },
   "outputs": [
    {
     "data": {
      "text/plain": [
       "array([[ 0.23781108,  0.37083299,  0.95730428],\n",
       "       [ 0.76795201,  0.11688021,  0.50871979],\n",
       "       [ 0.52298802,  0.47400539,  0.90193332],\n",
       "       [ 0.24442627,  0.416147  ,  0.72756262],\n",
       "       [ 0.98755466,  0.35097172,  0.95570843],\n",
       "       [ 0.22434106,  0.28519116,  0.11982767],\n",
       "       [ 0.35233541,  0.82137637,  0.86487718],\n",
       "       [ 0.9189059 ,  0.35304017,  0.9656334 ],\n",
       "       [ 0.19573099,  0.08614483,  0.17420508],\n",
       "       [ 0.78716587,  0.25658613,  0.38999007]])"
      ]
     },
     "execution_count": 4,
     "metadata": {},
     "output_type": "execute_result"
    }
   ],
   "source": [
    "np.random.shuffle (X)\n",
    "\n",
    "X"
   ]
  },
  {
   "cell_type": "markdown",
   "metadata": {},
   "source": [
    "##### Permutation\n",
    "This function permutes a sequence in a random way or it returns a permuted range. If the parameter is an array the function returns a shuffed copy of the array, if the parameter passed is a multi-dimensional array it will return an array that was shuffled onward its first index, if the parameter used is an integer it will permute the np.arange(X) in a random way.\n",
    "\n",
    "###### np.random.permutation(X)\n",
    "\n",
    "Parameters(X) - it can be either an integer or an array.\n",
    "Returns - n -dimensional array (ndarray - permuted sequence)"
   ]
  },
  {
   "cell_type": "code",
   "execution_count": 5,
   "metadata": {
    "scrolled": true
   },
   "outputs": [
    {
     "data": {
      "text/plain": [
       "array([24,  0, 17,  4,  6, 16,  2, 15,  9,  1, 19, 20, 13,  3, 12, 18,  7,\n",
       "       11,  8, 22, 14,  5, 23, 21, 10])"
      ]
     },
     "execution_count": 5,
     "metadata": {},
     "output_type": "execute_result"
    }
   ],
   "source": [
    "#Permutation function example\n",
    "\n",
    "# Example 1: Create an array from 0 to 24 (total of 25 numbers).\n",
    "np.random.permutation(25)"
   ]
  },
  {
   "cell_type": "code",
   "execution_count": 6,
   "metadata": {
    "scrolled": true
   },
   "outputs": [
    {
     "data": {
      "text/plain": [
       "array([  5,  79,   0, 100,  58])"
      ]
     },
     "execution_count": 6,
     "metadata": {},
     "output_type": "execute_result"
    }
   ],
   "source": [
    "# Example 2: Permute a given array.\n",
    "np.random.permutation ([0, 100, 58, 79, 5])"
   ]
  },
  {
   "cell_type": "markdown",
   "metadata": {},
   "source": [
    "### Section 3. 'Distributions' functions\n",
    "\n",
    "There are many 'distributions' function in the numpy.random package. They're related to different probability distributions. \n",
    "\n",
    "1. Binomial Distribution\n",
    "2. Poisson Distribution\n",
    "3. Gaussiann Distribution/Normal Distribution\n",
    "4. Standard Normal Distribution\n",
    "5. Chisquare Distribution\n",
    "\n",
    "#### 1. Binomial Distribution\n",
    "Draws samples from binomial distribution with specified parameters. Basically, it counts how often a event take place in a certain number of trial.\n",
    "\n",
    "##### np.random.binomial(n, p, size=None) \n",
    "\n",
    "n  = (integer greater than or equal to zero)\n",
    "\n",
    "p = probability (interval [0,1] includes zero and one)\n",
    "\n",
    "size - number of times that the experiment will run. \n",
    "\n",
    "Parameters used are n (number of trials), p (probability) and size (number of times that the experiment will run - it's optional).N should be an integer or array of integers (greater than or equal to zero), p should be float or array of floats (interval [0,1] that includes zero and one) and size should be an integer of tuple of integers.\n",
    "\n",
    "Returns an output of n-dimensional array or scalar. Drawn samples from the parameterized binomial distribution, where each sample is equal to the number of successes over the n trials."
   ]
  },
  {
   "cell_type": "code",
   "execution_count": 7,
   "metadata": {},
   "outputs": [
    {
     "name": "stdout",
     "output_type": "stream",
     "text": [
      "[4 4 3 5 8 4 5 3 5 3 6 5 6 6 5 6 8 4 7 5 2 3 3 5 5 6 7 5 5 2 5 7 4 7 5 6 5\n",
      " 7 5 4 1 6 4 4 4 8 3 5 6 3 5 3 7 6 6 3 2 6 3 5 5 7 6 3 6 6 4 6 5 6 5 5 6 3\n",
      " 5 8 5 4 5 3 2 3 6 5 5 9 7 4 5 4 3 3 6 4 7 5 8 8 8 2 6 5 5 6 5 6 2 5 5 6 6\n",
      " 5 6 7 7 6 5 5 3 5 5 6 5 3 5 8 3 5 8 7 3 5 7 5 7 3 4 7 5 7 5 4 3 5 5 5 4 5\n",
      " 6 2 6 3 4 4 6 3 3 6 7 2 4 6 4 4 4 6 7 4 2 5 5 5 2 3 3 5 8 3 5 5 5 7 6 7 3\n",
      " 6 1 3 7 6 3 7 2 4 5 6 7 2 7 3 6 4 4 6 6 5 3 4 4 6 6 4 8 3 6 6 5 4 7 5 6 7\n",
      " 3 6 4 6 7 4 5 3 7 6 4 4 6 4 4 3 5 4 4 6 2 4 5 1 5 2 4 5 3 7 5 5 3 5 3 6 4\n",
      " 5 5 6 2 4 4 5 2 6 3 4 2 5 5 3 3 5 4 4 3 7 2 7 7 6 6 8 4 5 4 4 5 6 4 5 3 3\n",
      " 6 3 7 6 3 8 4 1 8 4 4 5 5 4 5 5 1 3 6 5 3 5 4 2 5 7 6 7 8 5 7 4 5 6 4 4 3\n",
      " 3 6 7 7 7 8 6 3 3 6 5 3 6 5 3 7 7 3 4 6 5 5 6 5 8 9 6 6 4 5 5 4 7 8 7 6 6\n",
      " 5 3 7 6 7 5 7 6 0 7 2 5 4 4 5 4 8 4 6 5 7 5 4 6 6 6 4 5 5 6 4 4 2 3 6 5 2\n",
      " 2 7 4 8 7 5 5 4 3 7 3 5 9 5 8 3 7 4 7 4 6 3 4 4 6 7 5 6 8 2 4 5 1 6 3 5 4\n",
      " 8 6 4 6 4 3 6 4 6 4 2 2 3 3 5 4 3 7 7 3 6 5 4 3 5 5 4 6 5 5 5 7 4 7 4 6 5\n",
      " 8 5 7 7 4 6 6 5 7 6 7 5 8 5 2 3 1 7 4 4 3 6 6 6 3 6 5 3 4 4 5 5 6 7 9 6 4\n",
      " 5 5 6 5 5 7 7 6 5 6 6 2 4 5 5 6 5 6 5 6 5 4 4 5 4 1 7 3 3 6 6 3 2 6 7 4 2\n",
      " 4 5 5 3 5 6 3 5 4 5 6 3 2 6 6 6 5 3 3 5 6 6 8 5 6 3 6 7 4 3 2 5 5 6 6 6 5\n",
      " 7 2 5 6 5 5 5 2 2 2 7 6 4 7 6 4 6 3 2 4 9 4 5 5 6 7 9 6 2 7 7 6 5 5 3 4 3\n",
      " 5 3 2 6 5 5 3 2 7 1 7 6 2 7 6 5 7 6 7 5 4 5 5 6 5 8 4 7 6 5 6 6 6 4 5 7 3\n",
      " 6 4 4 4 4 6 3 8 5 6 4 5 5 5 3 6 6 5 3 7 3 6 5 5 6 6 8 5 7 5 6 6 5 5 5 3 4\n",
      " 5 4 4 8 4 7 4 2 4 3 4 7 4 6 3 3 5 7 6 3 6 3 5 4 3 5 8 7 7 7 5 7 6 4 5 7 4\n",
      " 4 2 4 6 5 6 4 7 6 3 3 6 7 7 5 8 7 5 5 3 4 5 2 6 4 3 5 4 3 5 6 6 7 7 7 5 5\n",
      " 6 3 3 6 4 7 6 3 7 6 4 6 4 4 4 2 4 2 5 6 4 3 7 5 3 5 5 5 4 5 3 5 7 5 6 3 4\n",
      " 2 5 6 6 4 4 5 4 5 6 3 6 5 3 6 4 8 5 1 3 4 3 4 4 3 6 8 1 3 3 6 8 4 6 5 7 3\n",
      " 4 6 5 6 6 6 8 5 6 5 5 4 2 4 3 5 7 6 3 7 6 7 3 6 4 5 4 7 6 4 2 7 2 5 4 8 7\n",
      " 4 3 5 3 7 4 4 5 2 5 4 6 3 5 6 5 6 4 4 6 3 5 8 6 4 6 4 4 3 2 7 3 8 4 5 4 6\n",
      " 4 4 4 7 7 5 5 3 6 3 5 5 6 2 6 5 5 3 7 6 6 6 5 6 7 5 4 7 5 7 5 4 5 7 7 5 7\n",
      " 6 4 7 2 6 5 5 7 3 4 7 5 7 8 4 5 5 4 6 4 4 6 8 6 7 5 6 8 8 8 3 5 4 6 5 7 4\n",
      " 3]\n"
     ]
    },
    {
     "data": {
      "image/png": "[encoded data removed]",
      "text/plain": [
       "<matplotlib.figure.Figure at 0x240ca70a58>"
      ]
     },
     "metadata": {},
     "output_type": "display_data"
    }
   ],
   "source": [
    "# Binomial example - flipping coin\n",
    "\n",
    "import matplotlib.pyplot as plt\n",
    "%matplotlib inline\n",
    "\n",
    "#Flipping coin example\n",
    "#n, p, k = 10, 0.5, 1000 ( n= number of trials, p= probability of each trial, k = tested 1000 times)\n",
    "n = 10\n",
    "p = 0.5\n",
    "k = 1000\n",
    "binomial_coin = np.random.binomial (n,p,k) \n",
    "\n",
    "print (binomial_coin)\n",
    "\n",
    "# Plot the Binomial Distribution\n",
    "plt.figure()\n",
    "plt.subplot(1,2,1)\n",
    "plt.plot(binomial_coin, 'go--', alpha=0.5)\n",
    "plt.ylim(0,np.max(binomial_coin)+1)\n",
    "plt.xlabel('Number of times tested')\n",
    "plt.ylabel('r successes')\n",
    "plt.grid()\n",
    "plt.subplot(1,2,2)\n",
    "nB, dum, dum = plt.hist(binomial_coin, bins=50,color='g',alpha=0.5)\n",
    "\n",
    "#plt.xlim(0,n)\n",
    "plt.xlabel('r successes')\n",
    "plt.ylabel('Frequency')\n",
    "plt.title('n=%i, p=%.2f, N=%i experiments' % (n,p,k))\n",
    "plt.grid()\n",
    "\n",
    "#Each time the experiment of  n  trial is run, we achieve a individual number of successes (r: always an integer). But based on the p (probability), it is expected to get some values of  sucesses (r)  more often than others. So, in the flipping coin example most common value was 5 successes. Hovewer, a range of values was returned. Most of the trial had a range of values between 4 and 6 sucesses. Quite a few trials had  r=1 and r=9  successes, a small number showed  r=7  successes."
   ]
  },
  {
   "cell_type": "markdown",
   "metadata": {},
   "source": [
    "#### 2. Poisson Distribution\n",
    "\n",
    "Draw samples from a Poisson distribution. The Poisson Distribution is the probability of number of events, that occurs with a known constant rate and independently of the time since the last event, taking place in a fixed interval of time. Examples of hit on a website in a given hour, number of mail received per day during a given time, number of phone calls received by a call center per hour, natural birth in a given hospital, number of photons recorded in a certain time from a star, etc.  Poisson distribution is described in terms of the rate (mu) at which the events happen. \n",
    "\n",
    "##### np.random.poisson(lam=1.0, size=None)\n",
    "\n",
    "Parameters used are lam (mu) and size (it's optional). Mu should be a float or an array of floats and the interval should be greater or equal to zero and the size should be an integer or a tuple of integer.\n",
    "\n",
    "Returns an output of n-dimensionaal array or scalar. Drawn samples from the parameterized Poisson distribution."
   ]
  },
  {
   "cell_type": "code",
   "execution_count": 8,
   "metadata": {
    "scrolled": true
   },
   "outputs": [
    {
     "data": {
      "text/plain": [
       "[Text(0,0.5,'Frequency'), Text(0.5,0,'Poisson')]"
      ]
     },
     "execution_count": 8,
     "metadata": {},
     "output_type": "execute_result"
    },
    {
     "data": {
      "image/png": "[encoded data removed]",
      "text/plain": [
       "<matplotlib.figure.Figure at 0x240ccc8c88>"
      ]
     },
     "metadata": {},
     "output_type": "display_data"
    }
   ],
   "source": [
    "import seaborn as sns\n",
    "\n",
    "mu = 4\n",
    "size = 10000\n",
    "\n",
    "# Creates an array of 10000 elements each drawn from a poissonian probability density function for a mean value of 0.4.\n",
    "poisson = np.random.poisson(mu,size)\n",
    "\n",
    "#Plot the Poisson Distribution\n",
    "ax = sns.distplot(poisson, bins = 15, kde=False, color='b', hist_kws={\"linewidth\": 15,'alpha':1})\n",
    "ax.set(xlabel='Poisson', ylabel='Frequency')"
   ]
  },
  {
   "cell_type": "markdown",
   "metadata": {},
   "source": [
    "#### 3. Gaussian Distribution (Normal Distribution)\n",
    "\n",
    "Draw random samples from a Gaussian distribution, commonly called the 'normal distribution', with a characteristic shape: bell curve. Usually the normal distribution take places in nature, for example blood pressure, height of people, etc. Moreover, it occurs in samples that are influenced by a great number os small and random disturbances that each one has its own unique distribution. Such as, marks on a test, errors in measurements, etc. \n",
    "The normal distribution can be considered 'normalized' when a probability of 1 is given after sum over all values of x axis. Besides, the Gaussian distribution gives a probability of 0.68 of beoing within 1 standard deviation (SD) of the mean. In other words, how spread out numbers are: 68% of values are within 1 SD of the mean; 95% of values are within 2 SD of the mean and 99.7% are within 3 SD of the mean.\n",
    "Moreover, the normal distribution has the mean equal to median and has a symmetry about the centre (50% of the values are less than the mean and the other 50% are greater than the mean).\n",
    "\n",
    "\n",
    "##### np.random.normal(loc=0.0, scale=1.0, size=None)\n",
    "\n",
    "Parameters used are loc (mean/average of the distribution), scale (SD of the distribution) and size (it's optional). Loc and scale should be float or array of floats, while size should be integer or tuple of integers,\n",
    "\n",
    "Returns an output of n-dimensional array or scalar.\t"
   ]
  },
  {
   "cell_type": "code",
   "execution_count": 9,
   "metadata": {},
   "outputs": [
    {
     "data": {
      "image/png": "[encoded data removed]",
      "text/plain": [
       "<matplotlib.figure.Figure at 0x2410ec39e8>"
      ]
     },
     "metadata": {},
     "output_type": "display_data"
    }
   ],
   "source": [
    "#Generate a random of normal Distribution\n",
    "loc = 0\n",
    "sc = 0.1\n",
    "gd = np.random.normal (loc, sc, 10000)\n",
    "\n",
    "#Plot the Gaussian Distribution\n",
    "count, bins, ignored = plt.hist(gd, 45, density=True)\n",
    "plt.plot(bins, 1/(sc * np.sqrt(2 * np.pi)) * np.exp( - (bins - loc)**2 / (2 * sc**2) ), linewidth=2, color='r')\n",
    "plt.show()"
   ]
  },
  {
   "cell_type": "markdown",
   "metadata": {},
   "source": [
    "#### 4.  Standard Normal Distribution\n",
    "\n",
    "Draw samples from a standard Normal distribution. There are many different normal distributions depending on mean and SD. A Standard Normal Distribution is a 'special' case of normal distribution as the mean is equal to zero and SD to one. \n",
    "The Standard Normal Distribution makes easy to work as reference instead of performing computations on each new set of parameters for a variety of normal curve. Therefore, it cann be used to work with problems that involve normal distribution, such as BMI (Body Mass Index). In this distribution, the random variable, x, is called a standard score, or a z-score (x axis of the graph of the Standard Normal Distribution).\n",
    "\n",
    "<img src=\"https://image.ibb.co/iC1D3L/Normal.jpg\" alt=\"Normal\" border=\"0\">\n",
    "\n",
    "\n",
    "##### np.random.standard_normal(size =None)\n",
    "\n",
    "Parameters used is size, but it's optional. The size should be an integer or a tuple of integers.\t\n",
    "size : int or tuple of ints, optional\n",
    "\n",
    "Returns as an output a float or a n-dimensional array."
   ]
  },
  {
   "cell_type": "code",
   "execution_count": 10,
   "metadata": {},
   "outputs": [
    {
     "data": {
      "text/plain": [
       "array([ 0.0931136 , -0.3593382 ,  0.30148097, ...,  0.55138204,\n",
       "       -0.16060318, -2.33270473])"
      ]
     },
     "execution_count": 10,
     "metadata": {},
     "output_type": "execute_result"
    }
   ],
   "source": [
    "#Generate random numbers from a Standard Normal Distribution\n",
    "snd = np.random.standard_normal (10000)\n",
    "\n",
    "snd"
   ]
  },
  {
   "cell_type": "markdown",
   "metadata": {},
   "source": [
    "#### 5. Chi-square Distribution \n",
    "\n",
    "Draw samples from a chi-square distribution that usually is used in hypothesis testing. This distribution vary depending on the degrees of freedom (number of categories in the data subtracted by one). ' When df independent random variables, each with standard normal distributions (mean 0, variance 1), are squared and summed, the resulting distribution is chi-square'. Therefore, the number of SD ebing summed is the df of the distribution.\n",
    "Also called 'goodness of fit' statistic the Chi-square test usually is used to test the chances that an observed distribution is due to happen. This distribution approaches a normal distribution as the df increases.\n",
    "\n",
    "<img src=\"https://image.ibb.co/m6Lnxf/chidist2.png\" alt=\"chidist2\" border=\"0\">\n",
    "\n",
    "##### np.random.chisquare(df, size=None)\n",
    "\n",
    "Parameters used are degrees of freedom (df) and size (it's optional). df that should be a float or an array of float and must be greater than zero and size that should be an integer or tuple of integers.\n",
    "\n",
    "Returns an output of n-dimensional array or scalar. Drawn samples from the parameterized chi-square distribution. In case df is less than or equal to zero or when the size is inappropriate it raises a value error.\n",
    "\n",
    "Example:\n",
    "A research have gathered data about the gender of students enrolled in three different programs. So, as there are three categories of students, the df would be n - 1 (3 - 1 = 2)."
   ]
  },
  {
   "cell_type": "code",
   "execution_count": 11,
   "metadata": {},
   "outputs": [
    {
     "data": {
      "text/plain": [
       "2.9352603127720713"
      ]
     },
     "execution_count": 11,
     "metadata": {},
     "output_type": "execute_result"
    }
   ],
   "source": [
    "df = 2\n",
    "\n",
    "cs = np.random.chisquare(df)\n",
    "\n",
    "cs"
   ]
  },
  {
   "cell_type": "markdown",
   "metadata": {},
   "source": [
    "### Section 4. 'Random generator' - seeds\n",
    "\n"
   ]
  },
  {
   "cell_type": "markdown",
   "metadata": {},
   "source": [
    "#### np.random.seed(seed=None)¶\n",
    "\n",
    "When RandomState is initialized it calls the method 'seed' the generator. RandomState generates random numbers to simulate a variety of probability distributions.The parameters used for seed the generator are: integer or 1-dimensional array_like, which are optional. Moreover, regarding the distribution-specific arguments, any method used takes a keyword argument size ('seed'). If the size is 'none'(default size), then it will generate a single value. If it is an integer, it will generate a 1-dimensional array containing integer values that can be between 0 and 2**32 - 1. \n",
    "This is important for scientific works, only with a seed you can replicate computations that uses random elements."
   ]
  },
  {
   "cell_type": "code",
   "execution_count": 12,
   "metadata": {
    "collapsed": true
   },
   "outputs": [],
   "source": [
    "    # Reset random state. Using the seed results in repeatable results/outputs. That way, it is important for works like scientific ones as it replicate computations that needs random numbers.\n",
    "    np.random.seed(5)  "
   ]
  },
  {
   "cell_type": "code",
   "execution_count": 13,
   "metadata": {},
   "outputs": [
    {
     "data": {
      "text/plain": [
       "array([ 0.44122749, -0.33087015,  2.43077119, -0.25209213,  0.10960984,\n",
       "        1.58248112, -0.9092324 , -0.59163666,  0.18760323, -0.32986996])"
      ]
     },
     "execution_count": 13,
     "metadata": {},
     "output_type": "execute_result"
    }
   ],
   "source": [
    "    # Shuffle.\n",
    "    np.random.randn(10)  "
   ]
  },
  {
   "cell_type": "code",
   "execution_count": 14,
   "metadata": {},
   "outputs": [
    {
     "data": {
      "text/plain": [
       "array([ 0.44122749, -0.33087015,  2.43077119, -0.25209213,  0.10960984,\n",
       "        1.58248112, -0.9092324 , -0.59163666,  0.18760323, -0.32986996])"
      ]
     },
     "execution_count": 14,
     "metadata": {},
     "output_type": "execute_result"
    }
   ],
   "source": [
    "np.random.seed(5)\n",
    "np.random.randn(10)"
   ]
  },
  {
   "cell_type": "markdown",
   "metadata": {
    "collapsed": true,
    "scrolled": true
   },
   "source": [
    "## End"
   ]
  }
 ],
 "metadata": {
  "kernelspec": {
   "display_name": "Python 3",
   "language": "python",
   "name": "python3"
  },
  "language_info": {
   "codemirror_mode": {
    "name": "ipython",
    "version": 3
   },
   "file_extension": ".py",
   "mimetype": "text/x-python",
   "name": "python",
   "nbconvert_exporter": "python",
   "pygments_lexer": "ipython3",
   "version": "3.6.3"
  }
 },
 "nbformat": 4,
 "nbformat_minor": 2
}
